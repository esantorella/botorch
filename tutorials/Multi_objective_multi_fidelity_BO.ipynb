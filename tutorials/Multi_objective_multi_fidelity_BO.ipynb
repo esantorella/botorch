{
  "metadata": {
    "dataExplorerConfig": {},
    "kernelspec": {
      "display_name": "python3",
      "language": "python",
      "name": "python3",
      "cinder_runtime": true,
      "ipyflow_runtime": false,
      "metadata": {
        "kernel_name": "bento_kernel_ae",
        "nightly_builds": false,
        "fbpkg_supported": true,
        "cinder_runtime": true,
        "ipyflow_runtime": false,
        "is_prebuilt": true
      }
    },
    "toc": {
      "base_numbering": 1,
      "nav_menu": {},
      "number_sections": true,
      "sideBar": true,
      "skip_h1_title": false,
      "title_cell": "Table of Contents",
      "title_sidebar": "Contents",
      "toc_cell": false,
      "toc_position": {},
      "toc_section_display": true,
      "toc_window_display": false
    },
    "varInspector": {
      "cols": {
        "lenName": 16,
        "lenType": 16,
        "lenVar": 40
      },
      "kernels_config": {
        "python": {
          "delete_cmd_postfix": "",
          "delete_cmd_prefix": "del ",
          "library": "var_list.py",
          "varRefreshCmd": "print(var_dic_list())"
        },
        "r": {
          "delete_cmd_postfix": ") ",
          "delete_cmd_prefix": "rm(",
          "library": "var_list.r",
          "varRefreshCmd": "cat(var_dic_list()) "
        }
      },
      "position": {
        "height": "423.4px",
        "left": "858.8px",
        "right": "20px",
        "top": "120px",
        "width": "350px"
      },
      "types_to_exclude": [
        "module",
        "function",
        "builtin_function_or_method",
        "instance",
        "_Feature"
      ],
      "window_display": false
    },
    "captumWidgetMessage": {},
    "last_server_session_id": "848e6d1a-4b12-4dee-a635-3ef845e077e0",
    "last_kernel_id": "7e8af735-5d56-4716-8549-522bc4c7e2f3",
    "last_base_url": "https://bento.edge.x2p.facebook.net/",
    "last_msg_id": "58b07569-46a5521d982f6e80c023abd6_740",
    "outputWidgetContext": {}
  },
  "nbformat": 4,
  "nbformat_minor": 2,
  "cells": [
    {
      "cell_type": "markdown",
      "metadata": {
        "originalKey": "4be3ab76-0dde-4daa-81b7-68df50547590",
        "showInput": false
      },
      "source": [
        "# Simultaneous multi-objective multi-fidelity optimization  "
      ]
    },
    {
      "cell_type": "markdown",
      "metadata": {
        "originalKey": "8fb7e5e3-8176-4b7f-b9b6-9a20bfb7ad37",
        "showInput": false
      },
      "source": [
        "In this tutorial notebook we demonstrate how to perform multi-objective multi-fidelity (MOMF) optimization in BoTORCH as described in [1]. The main concept in MOMF is introducing a 'fidelity objective' that is optimized along with the problem objectives. This fidelity objective can be thought of as a trust objective that rewards the optimization when going to higher fidelity. This emulates a real world scenario where high fidelity data may sometime yield similar values for other objectives but is still considered more trustworthy. Thus the MOMF explicitly optimizes for getting more trustworthy data while taking into account the higher computational costs associated with it.\n",
        "\n",
        "We will optimize a synthetic function that is a modified multi-fidelity Branin-Currin. This is a 3 x 2 dimensional problem with one of the input dimension being the fidelity. For the MOMF this results in a 3 x 3 optimization since it also takes into account the fidelity objective. In this case the fidelity objective is taken to be a linear function of fidelity, $ f(s)=s$, where $s$ is the fidelity. The MOMF algorithm can accept any discrete or continuous cost functions as an input. In this example, we choose an exponential dependency of the form $C(s)=\\exp(s)$. The goal of the optimization is to find the Pareto front, which is a trade-off solution set for Multi-objective problems, at the highest fidelity. \n",
        "\n",
        "In the second part of this tutorial we compare the method with a multi-objective only optimization using qEHVI [2] with q set to 1 (note that MOMF also supports q>1 if the underlying MO acquisition function supports it). The MO-only optimization runs only at the highest fidelity while MOMF makes use of lower fidelity data to estimate the Pareto front at the highest fidelity.\n",
        "\n",
        "[1] [Irshad, Faran, Stefan Karsch, and Andreas Döpp. \"Expected hypervolume improvement for simultaneous multi-objective and multi-fidelity optimization.\" arXiv preprint arXiv:2112.13901 (2021).](https://arxiv.org/abs/2112.13901)\n",
        "\n",
        "[2] [S. Daulton, M. Balandat, and E. Bakshy. Differentiable Expected Hypervolume Improvement for Parallel Multi-Objective Bayesian Optimization. Advances in Neural Information Processing Systems 33, 2020.](https://arxiv.org/abs/2006.05078)"
      ]
    },
    {
      "cell_type": "code",
      "metadata": {
        "originalKey": "9a7d5d13-9548-4c87-8c85-117e4781337a",
        "code_folding": [],
        "hidden_ranges": [],
        "collapsed": false,
        "requestMsgId": "9a7d5d13-9548-4c87-8c85-117e4781337a",
        "customOutput": null,
        "executionStartTime": 1677718872876,
        "executionStopTime": 1677718874462
      },
      "source": [
        "import os\n",
        "from typing import Any, Dict, Optional, Tuple\n",
        "\n",
        "import matplotlib.pyplot as plt\n",
        "import numpy as np\n",
        "import torch"
      ],
      "execution_count": 1,
      "outputs": [
        {
          "output_type": "stream",
          "name": "stderr",
          "text": [
            "I0301 170113.129 _utils_internal.py:179] NCCL_DEBUG env var is set to None\n"
          ]
        },
        {
          "output_type": "stream",
          "name": "stderr",
          "text": [
            "I0301 170113.131 _utils_internal.py:188] NCCL_DEBUG is INFO from /etc/nccl.conf\n"
          ]
        }
      ]
    },
    {
      "cell_type": "markdown",
      "metadata": {
        "originalKey": "313624cb-6e9b-4419-aa46-53bc5dfdbae6",
        "showInput": false
      },
      "source": [
        "### Set dtype and device \n",
        "Setting up the global variable that determine the device to run the optimization. The optimization is much faster when it runs on GPU."
      ]
    },
    {
      "cell_type": "code",
      "metadata": {
        "originalKey": "ab903ec3-1743-4b98-ab82-c9fc1d7fc66d",
        "code_folding": [],
        "hidden_ranges": [],
        "collapsed": false,
        "requestMsgId": "ab903ec3-1743-4b98-ab82-c9fc1d7fc66d",
        "customOutput": null,
        "executionStartTime": 1677718874597,
        "executionStopTime": 1677718874603
      },
      "source": [
        "tkwargs = {  # Tkwargs is a dictionary contaning data about data type and data device\n",
        "    \"dtype\": torch.double,\n",
        "    \"device\": torch.device(\"cuda\" if torch.cuda.is_available() else \"cpu\"),\n",
        "}\n",
        "SMOKE_TEST = os.environ.get(\"SMOKE_TEST\")"
      ],
      "execution_count": 2,
      "outputs": []
    },
    {
      "cell_type": "markdown",
      "metadata": {
        "originalKey": "6ab54ce1-7768-4460-b965-369fa1c4f664",
        "showInput": false
      },
      "source": [
        "### Here we define different variables that define the problem setting and optimization settings"
      ]
    },
    {
      "cell_type": "code",
      "metadata": {
        "originalKey": "b76711ae-a742-44fa-b8b7-5da3f86db1cd",
        "collapsed": false,
        "requestMsgId": "b76711ae-a742-44fa-b8b7-5da3f86db1cd",
        "customOutput": null,
        "executionStartTime": 1677718874986,
        "executionStopTime": 1677718880334,
        "code_folding": [],
        "hidden_ranges": []
      },
      "source": [
        "from botorch.test_functions.multi_objective_multi_fidelity import MOMFBraninCurrin\n",
        "\n",
        "BC = MOMFBraninCurrin(negate=True)\n",
        "dim_x = BC.dim  # Input Dimension for MO only optimization\n",
        "dim_yMO = BC.num_objectives  # Output Dimension for MO only optimization\n",
        "dim_xMO = dim_x - 1  # Input Dimension for MOMF optimization\n",
        "dim_y = dim_yMO + 1  # Output Dimesnion for MOMF optimization\n",
        "\n",
        "ref_pointMO = [0] * dim_xMO  # Reference point for MO only Hypervolume calculation\n",
        "ref_point = [0] * dim_x  # Reference point for MOMF Hypervolume calculation\n",
        "\n",
        "n_TRIALS = 3\n",
        "BATCH_SIZE = 2  # For Batch-optimization BATCH_SIZE should be greater than 1\n",
        "n_BATCH = 5 if SMOKE_TEST else 30  # Number of iterations within one optimization loop\n",
        "n_INIT = 5  # Number of initial points for MOMF\n",
        "n_INITMO = 1  # Number of initial points for MO only optimization\n",
        "MC_SAMPLES = 8 if SMOKE_TEST else 128  # Number of Monte Carlo samples\n",
        "# Number of restart points for multi-start optimization\n",
        "NUM_RESTARTS = 2 if SMOKE_TEST else 10\n",
        "# Number of raw samples for initial point selection heuristic\n",
        "RAW_SAMPLES = 4 if SMOKE_TEST else 512\n",
        "\n",
        "# Bounds for MO only optimization\n",
        "standard_boundsMO = torch.tensor([[0.0] * dim_xMO, [1.0] * dim_xMO], **tkwargs)\n",
        "# Bounds for MOMF optimization\n",
        "standard_bounds = torch.tensor([[0.0] * dim_x, [1.0] * dim_x], **tkwargs)"
      ],
      "execution_count": 3,
      "outputs": []
    },
    {
      "cell_type": "markdown",
      "metadata": {
        "originalKey": "ccfef565-dd93-43f1-b2ae-590939bf3e23",
        "showInput": false
      },
      "source": [
        "### Problem Setup \n",
        "The problem as described before is a modified multi-fidelity version of Branin-Currin (BC) function that results in a 3 x 2 problem. A simple fidelity objective is also defined here which is a linear function of the input fidelity. We also design a wrapper function around the BC that takes care of interfacing torch with numpy and appends the fidelity objective with the BC functions.\n",
        ""
      ]
    },
    {
      "cell_type": "code",
      "metadata": {
        "originalKey": "59d94c16-62af-47ce-9c72-e5734d517271",
        "collapsed": false,
        "requestMsgId": "59d94c16-62af-47ce-9c72-e5734d517271",
        "customOutput": null,
        "executionStartTime": 1677718880658,
        "executionStopTime": 1677718880672
      },
      "source": [
        "def fid_obj(X: torch.Tensor) -> torch.Tensor:\n",
        "    \"\"\"\n",
        "    A Fidelity Objective that can be thought of as a trust objective.\n",
        "    Higher Fidelity simulations are rewarded as being more\n",
        "    trustworthy. Here we consider just a linear fidelity objective.\n",
        "    \"\"\"\n",
        "    fid_obj = 1 * X[..., -1]\n",
        "    return fid_obj\n",
        "\n",
        "\n",
        "def get_objective(x: torch.Tensor) -> torch.Tensor:\n",
        "    \"\"\"Wrapper around the Objective function to take care of fid_obj stacking\"\"\"\n",
        "    y = BC(x)  # The Branin-Currin is called\n",
        "    fid = fid_obj(x)  # Getting the fidelity objective values\n",
        "    fid_out = fid.unsqueeze(-1)\n",
        "    # Concatenating objective values with fid_objective\n",
        "    y_out = torch.cat([y, fid_out], -1)\n",
        "    return y_out"
      ],
      "execution_count": 4,
      "outputs": []
    },
    {
      "cell_type": "markdown",
      "metadata": {
        "originalKey": "6a44ae07-fe2e-49e1-9825-e4cc13bff750",
        "showInput": false
      },
      "source": [
        "### Helper functions to define Cost \n",
        "\n",
        "The cost_func function returns an exponential cost from the fidelity. The cost_callable is a wrapper around it that takes care of the input output shapes. This is given as a callable function to MOMF that internally divides the hypervolume by cost."
      ]
    },
    {
      "cell_type": "code",
      "metadata": {
        "originalKey": "b12679e2-f324-4bde-8698-cf8af5007720",
        "collapsed": false,
        "requestMsgId": "b12679e2-f324-4bde-8698-cf8af5007720",
        "customOutput": null,
        "executionStartTime": 1677718880785,
        "executionStopTime": 1677718880795
      },
      "source": [
        "exp_arg = torch.tensor(4, **tkwargs)\n",
        "\n",
        "\n",
        "def cost_func(x, A):\n",
        "    \"\"\"A simple exponential cost function.\"\"\"\n",
        "    val = torch.exp(A * x)\n",
        "    return val\n",
        "\n",
        "\n",
        "# Displaying the min and max costs for this optimization\n",
        "print(f\"Min Cost: {cost_func(0, exp_arg)}\")\n",
        "print(f\"Max Cost: {cost_func(1, exp_arg)}\")\n",
        "\n",
        "\n",
        "def cost_callable(X: torch.Tensor) -> torch.Tensor:\n",
        "    r\"\"\"Wrapper for the cost function that takes care of shaping\n",
        "    input and output arrays for interfacing with cost_func.\n",
        "    This is passed as a callable function to MOMF.\n",
        "\n",
        "    Args:\n",
        "        X: A `batch_shape x q x d`-dim Tensor\n",
        "    Returns:\n",
        "        Cost `batch_shape x q x m`-dim Tensor of cost generated\n",
        "        from fidelity dimension using cost_func.\n",
        "    \"\"\"\n",
        "\n",
        "    cost = cost_func(torch.flatten(X), exp_arg).reshape(X.shape)\n",
        "    cost = cost[..., [-1]]\n",
        "    return cost"
      ],
      "execution_count": 5,
      "outputs": [
        {
          "output_type": "stream",
          "name": "stdout",
          "text": [
            "Min Cost: 1.0\nMax Cost: 54.598150033144236\n"
          ]
        }
      ]
    },
    {
      "cell_type": "markdown",
      "metadata": {
        "originalKey": "2f3f70a4-3654-4e65-ab6c-69b1e16ab3d6",
        "showInput": false
      },
      "source": [
        "### Model Initialization \n",
        "We use a multi-output SingleTaskGP to model the problem with a homoskedastic Gaussian likelihood with an inferred noise level. \n",
        "The model is initialized with 5 random points where the fidelity dimension of the initial points is sampled from a probability distribution : $p(s)=C(s)^{-1}$ "
      ]
    },
    {
      "cell_type": "code",
      "metadata": {
        "originalKey": "315ade09-5ecc-4473-9a42-50940dea6d79",
        "collapsed": false,
        "requestMsgId": "315ade09-5ecc-4473-9a42-50940dea6d79",
        "customOutput": null,
        "executionStartTime": 1677718880908,
        "executionStopTime": 1677718880914
      },
      "source": [
        "from botorch.models.gp_regression import SingleTaskGP\n",
        "from botorch.models.transforms.outcome import Standardize\n",
        "from gpytorch.mlls.exact_marginal_log_likelihood import ExactMarginalLogLikelihood\n",
        "\n",
        "\n",
        "def gen_init_data(dim_x, points) -> Tuple[torch.Tensor, torch.Tensor]:\n",
        "    \"\"\"\n",
        "    Generates training data with Fidelity dimension sampled\n",
        "    from a probability distribution that depends on Cost function\n",
        "    \"\"\"\n",
        "    train_x = torch.rand(points, dim_x, **tkwargs)\n",
        "    # Array from which fidelity values are sampled\n",
        "    fid_samples = torch.linspace(0, 1, 101, **tkwargs)\n",
        "    # Probability calculated from the Cost function\n",
        "    prob = 1 / cost_func(fid_samples, exp_arg)\n",
        "    # Normalizing\n",
        "    prob = prob / torch.sum(prob)\n",
        "    # Generating indices to choose fidelity samples\n",
        "    idx = prob.multinomial(num_samples=points, replacement=True)\n",
        "    train_x[:, -1] = fid_samples[idx]\n",
        "    # Calls the objective wrapper to generate train_obj\n",
        "    train_obj = get_objective(train_x)\n",
        "    return train_x, train_obj\n",
        "\n",
        "\n",
        "def initialize_model(\n",
        "    train_x: torch.Tensor, train_obj: torch.Tensor, state_dict: Optional[Dict[str, Any]]=None\n",
        ") -> Tuple[ExactMarginalLogLikelihood, SingleTaskGP]:\n",
        "    \"\"\"Initializes a SingleTaskGP with Matern 5/2 Kernel and returns the model and its MLL.\"\"\"\n",
        "    model = SingleTaskGP(\n",
        "        train_x, train_obj, outcome_transform=Standardize(m=train_obj.shape[-1])\n",
        "    )\n",
        "    mll = ExactMarginalLogLikelihood(model.likelihood, model)\n",
        "    if state_dict is not None:\n",
        "        model.load_state_dict(state_dict=state_dict)\n",
        "    return mll, model"
      ],
      "execution_count": 6,
      "outputs": []
    },
    {
      "cell_type": "markdown",
      "metadata": {
        "originalKey": "dcc1666f-f387-40b0-8137-25b133d22dd2",
        "showInput": false
      },
      "source": [
        "### Helper function to optimize acquisition function \n",
        "This is a helper function that initializes, optimizes the acquisition function MOMF and returns the new_x and new_obj. The problem is called from within this helper function.\n",
        "\n",
        "A simple initialization heuristic is used to select the 20 restart initial locations from a set of 1024 random points. Multi-start optimization of the acquisition function is performed using LBFGS-B with exact gradients computed via auto-differentiation."
      ]
    },
    {
      "cell_type": "code",
      "metadata": {
        "originalKey": "ccb1d811-6315-498b-9fa7-1f900941daec",
        "collapsed": false,
        "requestMsgId": "ccb1d811-6315-498b-9fa7-1f900941daec",
        "customOutput": null,
        "executionStartTime": 1677718881300,
        "executionStopTime": 1677718881312,
        "code_folding": [],
        "hidden_ranges": []
      },
      "source": [
        "from botorch.acquisition.multi_objective.multi_fidelity import MOMF\n",
        "from botorch.optim.optimize import optimize_acqf\n",
        "from botorch.utils.multi_objective.box_decompositions.non_dominated import (\n",
        "    FastNondominatedPartitioning,\n",
        ")\n",
        "from botorch.utils.transforms import unnormalize\n",
        "\n",
        "\n",
        "def optimize_MOMF_and_get_obs(\n",
        "    model,\n",
        "    train_obj,\n",
        "    sampler,\n",
        "    ref_point,\n",
        "    standard_bounds,\n",
        "    BATCH_SIZE,\n",
        "    cost_call,\n",
        "):\n",
        "    \"\"\"\n",
        "    Wrapper to call MOMF and optimizes it in a sequential greedy\n",
        "    fashion returning a new candidate and evaluation\n",
        "    \"\"\"\n",
        "    partitioning = FastNondominatedPartitioning(\n",
        "        ref_point=torch.tensor(ref_point, **tkwargs), Y=train_obj\n",
        "    )\n",
        "    acq_func = MOMF(\n",
        "        model=model,\n",
        "        ref_point=ref_point,  # use known reference point\n",
        "        partitioning=partitioning,\n",
        "        sampler=sampler,\n",
        "        cost_call=cost_call,\n",
        "    )\n",
        "    # Optimization\n",
        "    candidates, _ = optimize_acqf(\n",
        "        acq_function=acq_func,\n",
        "        bounds=standard_bounds,\n",
        "        q=BATCH_SIZE,\n",
        "        num_restarts=NUM_RESTARTS,\n",
        "        raw_samples=RAW_SAMPLES,  # used for intialization heuristic\n",
        "        options={\"batch_limit\": 5, \"maxiter\": 200, \"nonnegative\": True},\n",
        "        sequential=True,\n",
        "    )\n",
        "    # observe new values\n",
        "    new_x = unnormalize(candidates.detach(), bounds=standard_bounds)\n",
        "    new_obj = get_objective(new_x)\n",
        "    return new_x, new_obj"
      ],
      "execution_count": 7,
      "outputs": []
    },
    {
      "cell_type": "markdown",
      "metadata": {
        "originalKey": "bdb86f2e-6774-4b00-af78-d081948812a5",
        "showInput": false
      },
      "source": [
        "### Running MOMF optimization \n",
        "\n",
        "We run a single trial of 30 iterations to optimize the multi-fidelity versions of the Branin-Currin functions. The optimization loop works in the following sequence. \n",
        "\n",
        "1. At the start an initial data of 5 random points is generated and a model initialized using this data.\n",
        "2. The models are used to generate an acquisition function that is optimized to select new input parameters\n",
        "3. The objective function is evaluated at the suggested new_x and returns a new_obj.\n",
        "4. The models are updated with the new points and then are used again to make the next prediction.\n",
        ""
      ]
    },
    {
      "cell_type": "code",
      "metadata": {
        "originalKey": "8b5af56b-3fc3-4de4-9758-9a52fcafa1f2",
        "collapsed": false,
        "requestMsgId": "8b5af56b-3fc3-4de4-9758-9a52fcafa1f2",
        "customOutput": null,
        "executionStartTime": 1677770838135,
        "executionStopTime": 1677770838136,
        "code_folding": [],
        "hidden_ranges": []
      },
      "source": [
        "%%time\n",
        "# MOMF Opt run\n",
        "from botorch import fit_gpytorch_mll\n",
        "from botorch.sampling.normal import SobolQMCNormalSampler\n",
        "from tqdm import tqdm\n",
        "\n",
        "\n",
        "# Intializing train_x to zero\n",
        "train_x = torch.zeros(n_INIT + n_BATCH * BATCH_SIZE, dim_x, **tkwargs)\n",
        "# Intializing train_obj to zero\n",
        "train_obj = torch.zeros(n_INIT + n_BATCH * BATCH_SIZE, dim_y, **tkwargs)\n",
        "torch.manual_seed(0)\n",
        "train_x[:n_INIT, :], train_obj[:n_INIT, :] = gen_init_data(dim_x, n_INIT)\n",
        "mll, model = initialize_model(train_x[:n_INIT, :], train_obj[:n_INIT, :])\n",
        "\n",
        "# Generate Sampler\n",
        "momf_sampler = SobolQMCNormalSampler(sample_shape=torch.Size([MC_SAMPLES]))\n",
        "\n",
        "for iteration in tqdm(range(0, n_BATCH)):\n",
        "    # run N_BATCH rounds of BayesOpt after the initial random batch\n",
        "    fit_gpytorch_mll(mll)  # Fit the model\n",
        "\n",
        "    # Updating indices used to store new observations\n",
        "    lower_index = n_INIT + iteration * BATCH_SIZE\n",
        "    upper_index = n_INIT + iteration * BATCH_SIZE + BATCH_SIZE\n",
        "    # optimize acquisition functions and get new observations\n",
        "    new_x, new_obj = optimize_MOMF_and_get_obs(\n",
        "        model,\n",
        "        train_obj[:upper_index, :],\n",
        "        momf_sampler,\n",
        "        ref_point,\n",
        "        standard_bounds,\n",
        "        BATCH_SIZE,\n",
        "        cost_call=cost_callable,\n",
        "    )\n",
        "    # Updating train_x and train_obj\n",
        "    train_x[lower_index:upper_index, :] = new_x\n",
        "    train_obj[lower_index:upper_index, :] = new_obj\n",
        "    # reinitialize the models so they are ready for fitting on next iteration\n",
        "    mll, model = initialize_model(train_x[:upper_index, :], train_obj[:upper_index, :])"
      ],
      "execution_count": 8,
      "outputs": [
        {
          "output_type": "stream",
          "name": "stderr",
          "text": [
            "\r  0%|          | 0/30 [00:00<?, ?it/s]",
            "\r  3%|▎         | 1/30 [00:04<02:10,  4.50s/it]",
            "\r  7%|▋         | 2/30 [00:07<01:46,  3.80s/it]",
            "\r 10%|█         | 3/30 [00:11<01:45,  3.92s/it]",
            "\r 13%|█▎        | 4/30 [00:19<02:16,  5.23s/it]",
            "\r 17%|█▋        | 5/30 [00:24<02:15,  5.43s/it]",
            "\r 20%|██        | 6/30 [00:30<02:15,  5.64s/it]",
            "\r 23%|██▎       | 7/30 [00:37<02:14,  5.84s/it]",
            "\r 27%|██▋       | 8/30 [00:44<02:21,  6.44s/it]",
            "\r 30%|███       | 9/30 [00:52<02:25,  6.92s/it]",
            "\r 33%|███▎      | 10/30 [00:59<02:18,  6.91s/it]",
            "\r 37%|███▋      | 11/30 [01:06<02:07,  6.74s/it]",
            "\r 40%|████      | 12/30 [01:11<01:54,  6.39s/it]",
            "\r 43%|████▎     | 13/30 [01:18<01:51,  6.57s/it]",
            "\r 47%|████▋     | 14/30 [01:26<01:49,  6.83s/it]",
            "\r 50%|█████     | 15/30 [01:33<01:42,  6.84s/it]",
            "\r 53%|█████▎    | 16/30 [01:38<01:30,  6.43s/it]",
            "\r 57%|█████▋    | 17/30 [01:44<01:22,  6.38s/it]",
            "\r 60%|██████    | 18/30 [01:50<01:12,  6.04s/it]",
            "\r 63%|██████▎   | 19/30 [01:56<01:06,  6.07s/it]",
            "\r 67%|██████▋   | 20/30 [02:01<00:59,  5.94s/it]",
            "\r 70%|███████   | 21/30 [02:07<00:52,  5.84s/it]",
            "\r 73%|███████▎  | 22/30 [02:12<00:45,  5.67s/it]",
            "\r 77%|███████▋  | 23/30 [02:17<00:37,  5.42s/it]",
            "\r 80%|████████  | 24/30 [02:23<00:33,  5.53s/it]",
            "\r 83%|████████▎ | 25/30 [02:28<00:27,  5.52s/it]",
            "\r 87%|████████▋ | 26/30 [02:33<00:20,  5.25s/it]",
            "\r 90%|█████████ | 27/30 [02:38<00:15,  5.32s/it]",
            "\r 93%|█████████▎| 28/30 [02:46<00:12,  6.05s/it]",
            "\r 97%|█████████▋| 29/30 [02:51<00:05,  5.81s/it]",
            "\r100%|██████████| 30/30 [02:57<00:00,  5.74s/it]",
            "\r100%|██████████| 30/30 [02:57<00:00,  5.92s/it]"
          ]
        },
        {
          "output_type": "stream",
          "name": "stdout",
          "text": [
            "CPU times: user 8min 15s, sys: 22.8 s, total: 8min 38s\nWall time: 2min 57s\n"
          ]
        },
        {
          "output_type": "stream",
          "name": "stderr",
          "text": [
            "\n"
          ]
        }
      ]
    },
    {
      "cell_type": "markdown",
      "metadata": {
        "originalKey": "bc189d13-6ad9-4687-8e67-c506dcc1dad1",
        "showInput": false
      },
      "source": [
        "### Result:  Evaluating the Pareto front at the highest fidelity from MOMF\n",
        "\n",
        "After the optimization we are interested in evaluating the final Pareto front. For this we train a GP model with the data acquired by the MOMF optimization. After this we generate $10^4$ random test points between between [0,1] with the fidelity dimension set to 1 to approximate the Pareto front. Two helper functions are defined to achieve this objective where one function generates the test data and the other extracts the Pareto front at the highest fidelity for a given training and testing data.\n",
        "\n",
        "**Note: This works reasonably well only for lower dimensional search spaces**"
      ]
    },
    {
      "cell_type": "code",
      "metadata": {
        "originalKey": "394df01c-9f56-4f8d-b7fd-cbdada2d3a17",
        "collapsed": false,
        "requestMsgId": "3f5bec9f-3f1e-4bdc-9a01-1905c4481e63",
        "customOutput": null,
        "executionStartTime": 1677770851719,
        "executionStopTime": 1677770851761
      },
      "source": [
        "from botorch.utils.multi_objective.pareto import is_non_dominated\n",
        "from botorch.utils.multi_objective.box_decompositions import DominatedPartitioning\n",
        "\n",
        "\n",
        "def gen_test_points(n_points: int, dim_x: int) -> torch.Tensor:\n",
        "    \"\"\"\n",
        "    Function to generate random points with fidelity dimension set to 1.\n",
        "    Used to evaluate Pareto front from MOMF\n",
        "    \"\"\"\n",
        "    test_x = torch.rand(size=(n_points, dim_x), **tkwargs)\n",
        "    test_x[:, -1] = 1\n",
        "    return test_x\n",
        "\n",
        "\n",
        "def get_pareto(\n",
        "    train_x: torch.Tensor, train_obj: torch.Tensor, test_x: torch.Tensor\n",
        ") -> Tuple:\n",
        "    \"\"\"\n",
        "    Function that takes in training and testing data with a reference point.\n",
        "    \n",
        "    It initializes a model and takes out the Posterior mean at the testing points.\n",
        "    From these points the non-dominated set is calculated and used to compute\n",
        "    the hypervolume.\n",
        "    \"\"\"\n",
        "    mll, model = initialize_model(train_x, train_obj)\n",
        "    fit_gpytorch_mll(mll)\n",
        "    with torch.no_grad():\n",
        "        # Compute posterior mean over outputs at testing data\n",
        "        means = model.posterior(test_x).mean\n",
        "    pareto_mask = is_non_dominated(means)\n",
        "    # Saving the Pareto front\n",
        "    pareto_f = means[pareto_mask]\n",
        "    # Computing Hypervolume\n",
        "    box_decomp = DominatedPartitioning(torch.tensor(ref_pointMO, **tkwargs), pareto_f)\n",
        "    hyper_volume = box_decomp.compute_hypervolume().item()\n",
        "    return hyper_volume, pareto_f"
      ],
      "execution_count": 9,
      "outputs": []
    },
    {
      "cell_type": "code",
      "metadata": {
        "originalKey": "4f9721ff-f288-4ef8-b006-9f09eda9452a",
        "collapsed": false,
        "requestMsgId": "96d21269-6e95-4c95-b14b-6e0b36e13267",
        "customOutput": null,
        "executionStartTime": 1677770868727,
        "executionStopTime": 1677770871260
      },
      "source": [
        "# Using the above two functions to generate the final Pareto front.\n",
        "n_points = 10**4\n",
        "test_x = gen_test_points(n_points, dim_x)\n",
        "_hv, final_PF = get_pareto(train_x, train_obj[:, :-1], test_x)\n",
        "_hv"
      ],
      "execution_count": 10,
      "outputs": [
        {
          "output_type": "execute_result",
          "data": {
            "text/plain": "0.4863664818097104"
          },
          "metadata": {
            "bento_obj_id": "139791161716528"
          },
          "execution_count": 10
        }
      ]
    },
    {
      "cell_type": "markdown",
      "metadata": {
        "originalKey": "ea24bf8b-a2cf-4a74-afe4-d1b09b6ab70f",
        "showInput": false
      },
      "source": [
        "Plotting the final Pareto front."
      ]
    },
    {
      "cell_type": "code",
      "metadata": {
        "originalKey": "8e121c01-9b8f-4102-a8e1-e637afee3842",
        "collapsed": false,
        "requestMsgId": "7eba50de-ffea-4e79-b59a-2015db897ec2",
        "customOutput": null,
        "executionStartTime": 1677770889122,
        "executionStopTime": 1677770889793
      },
      "source": [
        "fig, axes = plt.subplots(1, 1, figsize=(4, 4), dpi=200)\n",
        "axes.plot(\n",
        "    final_PF[:, 0].detach().cpu().numpy(),\n",
        "    final_PF[:, 1].detach().cpu().numpy(),\n",
        "    \"o\",\n",
        "    markersize=3.5,\n",
        "    label=\"MOMF\",\n",
        ")\n",
        "axes.set_title(\"Branin-Currin_Pareto Front\", fontsize=\"12\")\n",
        "axes.set_xlabel(\"Branin\", fontsize=\"10\")\n",
        "axes.set_ylabel(\"Currin\", fontsize=\"10\")\n",
        "axes.set_xlim(0, 1)\n",
        "axes.set_ylim(0, 1)\n",
        "axes.tick_params(labelsize=10)\n",
        "axes.legend(loc=\"lower right\", fontsize=\"7\", frameon=True, ncol=1)\n",
        "plt.tight_layout()"
      ],
      "execution_count": 11,
      "outputs": [
        {
          "output_type": "display_data",
          "data": {
            "text/plain": "<Figure size 800x800 with 1 Axes>",
            "image/png": "[encoded data removed]"
          },
          "metadata": {
            "bento_obj_id": "139790888033632",
            "needs_background": "light"
          }
        }
      ]
    },
    {
      "cell_type": "markdown",
      "metadata": {
        "originalKey": "9333f719-5117-4e76-bd9b-6b1262c0da29",
        "showInput": false
      },
      "source": [
        "# Comparison of MOMF with single-fidelity multi-objective optimization using qEHVI \n",
        "\n",
        "In this section we draw a comparison of the MOMF with qEHVI. For this purpose we will now run 3 trials of the MOMF and qEHVI with 80 iterations for both. For this we define some helper functions for qEHVI similar to what was done for MOMF. \n",
        "\n",
        "**Note: Most of the material for qEHVI example has been taken from [3]**\n",
        "\n",
        "[3] [Constrained, Parallel, Multi-Objective BO in BoTorch with qNEHVI, and qParEGO](https://botorch.org/tutorials/constrained_multi_objective_bo)"
      ]
    },
    {
      "cell_type": "markdown",
      "metadata": {
        "originalKey": "40e77498-2648-43a0-9fae-f0fb2dfd3ff6",
        "showInput": false
      },
      "source": [
        "Here we define a wrapper function for single-fidelity multi-objective qEHVI optimization that appends a column of ones (representing highest fidelity) around the Branin-Currin function."
      ]
    },
    {
      "cell_type": "code",
      "metadata": {
        "originalKey": "796d8e48-41e0-4983-8af8-343ce131745a",
        "collapsed": false,
        "requestMsgId": "4c9f8112-a4f0-4701-ad3e-646118fc6eff",
        "customOutput": null,
        "executionStartTime": 1677770893360,
        "executionStopTime": 1677770893366
      },
      "source": [
        "def get_obj_MO(X: torch.Tensor) -> torch.Tensor:\n",
        "    # Since MO-only optimization only evaluates at highest fidelity so a column of ones is added to the input to be consistent\n",
        "    # with the same objective function definition.\n",
        "    h_fid = torch.ones(*X.shape[:-1], 1, **tkwargs)\n",
        "    X = torch.cat([X, h_fid], dim=-1)\n",
        "    y = BC(X)\n",
        "    return y"
      ],
      "execution_count": 12,
      "outputs": []
    },
    {
      "cell_type": "markdown",
      "metadata": {
        "originalKey": "8c1f9c30-cd00-4f50-ad94-d7e65530a10d",
        "showInput": false
      },
      "source": [
        "### Data Initialization qEHVI \n",
        "\n",
        "For qEHVI we initialize with 1 point to keep the initial cost low. We do not aim to make the initial costs the same but for all cases the initial costs of the MOMF are lower when the fidelity is drawn in a probabilistic fashion."
      ]
    },
    {
      "cell_type": "code",
      "metadata": {
        "originalKey": "e8375e2a-d3db-4c83-8bae-fd08896f10a4",
        "collapsed": false,
        "requestMsgId": "2d3daa89-a57a-4abf-9512-87df85c390fc",
        "customOutput": null,
        "executionStartTime": 1677770897003,
        "executionStopTime": 1677770897015
      },
      "source": [
        "def gen_init_data_MO(dim_x: int, points: int) -> Tuple[torch.Tensor, torch.Tensor]:\n",
        "    # generates random training data.\n",
        "    train_x = torch.rand(size=(points, dim_x), **tkwargs)\n",
        "    train_obj = get_obj_MO(train_x)\n",
        "    return train_x, train_obj"
      ],
      "execution_count": 13,
      "outputs": []
    },
    {
      "cell_type": "markdown",
      "metadata": {
        "originalKey": "bf63446e-85c6-45b7-a9a2-b6dcc5176ed3",
        "showInput": false
      },
      "source": [
        "### Helper function to optimize acquisition function \n",
        "This is a helper function that initializes and optimizes the acquisition function qEHVI and returns the new_x and new_obj. The problem is called from within this helper function.\n",
        "\n",
        "A simple initialization heuristic is used to select the 20 restart initial locations from a set of 1024 random points. Multi-start optimization of the acquisition function is performed using LBFGS-B with exact gradients computed via auto-differentiation."
      ]
    },
    {
      "cell_type": "code",
      "metadata": {
        "originalKey": "3eb0c088-2b64-4c5b-bfb5-efaad71876cc",
        "collapsed": false,
        "requestMsgId": "40671711-282c-425e-8ffe-ef8ca25e2cc7",
        "code_folding": [],
        "hidden_ranges": [],
        "customOutput": null,
        "executionStartTime": 1677770899537,
        "executionStopTime": 1677770899544
      },
      "source": [
        "from botorch.acquisition.multi_objective.monte_carlo import (\n",
        "    qExpectedHypervolumeImprovement,\n",
        ")\n",
        "\n",
        "\n",
        "def optimize_MO_and_get_obs(\n",
        "    model, train_obj, sampler, ref_point, standard_bounds, BATCH_SIZE_MO\n",
        "):\n",
        "    \"\"\"Optimizes the qEHVI acquisition function, and returns a new candidate and observation.\"\"\"\n",
        "    # partition non-dominated space into disjoint rectangles\n",
        "    partitioning = FastNondominatedPartitioning(\n",
        "        ref_point=torch.tensor(ref_point, **tkwargs), Y=train_obj\n",
        "    )\n",
        "    acq_func = qExpectedHypervolumeImprovement(\n",
        "        model=model,\n",
        "        ref_point=ref_point,  # use a known reference point\n",
        "        partitioning=partitioning,\n",
        "        sampler=sampler,\n",
        "    )\n",
        "    # optimize\n",
        "    candidates, _ = optimize_acqf(\n",
        "        acq_function=acq_func,\n",
        "        bounds=standard_bounds,\n",
        "        q=BATCH_SIZE_MO,\n",
        "        num_restarts=NUM_RESTARTS,\n",
        "        raw_samples=RAW_SAMPLES,  # used for intialization heuristic\n",
        "        options={\"batch_limit\": 5, \"maxiter\": 200, \"nonnegative\": True},\n",
        "        sequential=True,\n",
        "    )\n",
        "    # observe new values\n",
        "    new_x = unnormalize(candidates.detach(), bounds=standard_bounds)\n",
        "    new_obj = get_obj_MO(new_x)\n",
        "    return new_x, new_obj"
      ],
      "execution_count": 14,
      "outputs": []
    },
    {
      "cell_type": "markdown",
      "metadata": {
        "originalKey": "d724499c-1b5a-4aed-a0eb-a3c714c43d53",
        "showInput": false
      },
      "source": [
        "### Running MOMF and qEHVI optimization for multiple Trials\n",
        "\n",
        "We run 5 trials of 30 iterations each to optimize the multi-fidelity versions of the Brannin-Currin functions using MOMF and qEHVI. The Bayesian loop works in the following sequence. \n",
        "\n",
        "1. At the start of each trial an initial data is generated and a model initialized using this data.\n",
        "2. The models are used to generated an acquisition function that gives us a suggestion for new input parameters\n",
        "3. The objective function is evaluated at the suggested new_x and returns a new_obj.\n",
        "4. The models are updated with the new points and then are used again to make the next prediction.\n",
        "\n",
        "**Note: The following code cell would take some time to run**"
      ]
    },
    {
      "cell_type": "code",
      "metadata": {
        "originalKey": "f7b1789d-fd1d-4aac-bc65-a36a10fe827a",
        "collapsed": false,
        "requestMsgId": "d8bf707c-53bb-4e83-815b-b4cd914e4d8b",
        "customOutput": null,
        "executionStartTime": 1677770909837,
        "executionStopTime": 1677771898078,
        "code_folding": [],
        "hidden_ranges": []
      },
      "source": [
        "%%time\n",
        "# MOMF and qEHVI\n",
        "\n",
        "# Intializing train_x to zero\n",
        "train_x = torch.zeros( n_INIT + n_BATCH * BATCH_SIZE, dim_x, n_TRIALS, **tkwargs)\n",
        "# Intializing train_obj to zero\n",
        "train_obj = torch.zeros(n_INIT + n_BATCH * BATCH_SIZE, dim_y, n_TRIALS, **tkwargs)  \n",
        "\n",
        "# Intializing train_xMO to zero\n",
        "train_xMO = torch.zeros(\n",
        "    n_INITMO + n_BATCH * BATCH_SIZE, dim_xMO, n_TRIALS, **tkwargs\n",
        ")\n",
        "# Intializing train_objMO to zero\n",
        "train_objMO = torch.zeros(\n",
        "    n_INITMO + n_BATCH * BATCH_SIZE, dim_yMO, n_TRIALS, **tkwargs\n",
        ")\n",
        "sampler = SobolQMCNormalSampler(sample_shape=torch.Size([MC_SAMPLES]))\n",
        "\n",
        "for trial in range(n_TRIALS):\n",
        "    print(f\"Trial {trial}\")\n",
        "    # Generate Data and initialize model\n",
        "    train_x[:n_INIT, :, trial], train_obj[:n_INIT, :, trial] = gen_init_data(\n",
        "        dim_x, n_INIT\n",
        "    )\n",
        "    mll, model = initialize_model(\n",
        "        train_x[:n_INIT, :, trial], train_obj[:n_INIT, :, trial]\n",
        "    )\n",
        "\n",
        "    train_xMO[:n_INITMO, :, trial], train_objMO[:n_INITMO, :, trial] = gen_init_data_MO(\n",
        "        dim_xMO, n_INITMO\n",
        "    )\n",
        "    mll_MO, model_MO = initialize_model(\n",
        "        train_xMO[:n_INITMO, :, trial], train_objMO[:n_INITMO, :, trial]\n",
        "    )\n",
        "    for _iter in tqdm(range(n_BATCH), desc=\"batch\"):\n",
        "        # run N_BATCH rounds of BayesOpt after the initial random batch\n",
        "        # fit the models\n",
        "        fit_gpytorch_mll(mll)\n",
        "        fit_gpytorch_mll(mll_MO)\n",
        "\n",
        "        # Updating indices used to store new observations\n",
        "        lower_index = n_INIT + _iter * BATCH_SIZE\n",
        "        upper_index = n_INIT + _iter * BATCH_SIZE + BATCH_SIZE\n",
        "\n",
        "        lower_indexMO = n_INITMO + _iter * BATCH_SIZE\n",
        "        upper_indexMO = n_INITMO + _iter * BATCH_SIZE + BATCH_SIZE\n",
        "        # optimize acquisition function and get new observations\n",
        "        new_x, new_obj = optimize_MOMF_and_get_obs(\n",
        "            model,\n",
        "            train_obj[:upper_index, :, trial],\n",
        "            sampler,\n",
        "            ref_point,\n",
        "            standard_bounds,\n",
        "            BATCH_SIZE,\n",
        "            cost_call=cost_callable,\n",
        "        )\n",
        "\n",
        "        new_x_MO, new_obj_MO = optimize_MO_and_get_obs(\n",
        "            model_MO,\n",
        "            train_objMO[:upper_indexMO, :, trial],\n",
        "            sampler,\n",
        "            ref_pointMO,\n",
        "            standard_boundsMO,\n",
        "            BATCH_SIZE,\n",
        "        )\n",
        "        # Updating train_x and train_obj\n",
        "        train_x[lower_index:upper_index, :, trial] = new_x\n",
        "        train_obj[lower_index:upper_index, :, trial] = new_obj\n",
        "\n",
        "        train_xMO[lower_indexMO:upper_indexMO, :, trial] = new_x_MO\n",
        "        train_objMO[lower_indexMO:upper_indexMO, :, trial] = new_obj_MO\n",
        "        # reinitialize the models so they are ready for fitting on next _iter\n",
        "        mll, model = initialize_model(\n",
        "            train_x[:upper_index, :, trial],\n",
        "            train_obj[:upper_index, :, trial],\n",
        "        )\n",
        "\n",
        "        mll_MO, model_MO = initialize_model(\n",
        "            train_xMO[:upper_indexMO, :, trial],\n",
        "            train_objMO[:upper_indexMO, :, trial],\n",
        "        )"
      ],
      "execution_count": 15,
      "outputs": [
        {
          "output_type": "stream",
          "name": "stdout",
          "text": [
            "Trial 0\n"
          ]
        },
        {
          "output_type": "stream",
          "name": "stderr",
          "text": [
            "\rbatch:   0%|          | 0/30 [00:00<?, ?it/s]",
            "\rbatch:   3%|▎         | 1/30 [00:05<02:50,  5.89s/it]",
            "/mnt/xarfuse/uid-22473/0b567aa0-seed-nspid4026534046_cgpid16409003-ns-4026534043/botorch/optim/initializers.py:224: BadInitialCandidatesWarning: Unable to find non-zero acquisition function values - initial conditions are being selected randomly.\n  warnings.warn(\n"
          ]
        },
        {
          "output_type": "stream",
          "name": "stderr",
          "text": [
            "/mnt/xarfuse/uid-22473/0b567aa0-seed-nspid4026534046_cgpid16409003-ns-4026534043/botorch/optim/initializers.py:224: BadInitialCandidatesWarning: Unable to find non-zero acquisition function values - initial conditions are being selected randomly.\n  warnings.warn(\n\rbatch:   7%|▋         | 2/30 [00:21<05:24, 11.57s/it]",
            "\rbatch:  10%|█         | 3/30 [00:27<04:04,  9.06s/it]",
            "\rbatch:  13%|█▎        | 4/30 [00:36<03:52,  8.93s/it]",
            "\rbatch:  17%|█▋        | 5/30 [00:44<03:35,  8.63s/it]",
            "\rbatch:  20%|██        | 6/30 [01:07<05:28, 13.69s/it]",
            "\rbatch:  23%|██▎       | 7/30 [01:18<04:48, 12.56s/it]",
            "\rbatch:  27%|██▋       | 8/30 [01:29<04:29, 12.23s/it]",
            "\rbatch:  30%|███       | 9/30 [01:43<04:27, 12.75s/it]",
            "\rbatch:  33%|███▎      | 10/30 [01:52<03:48, 11.44s/it]",
            "\rbatch:  37%|███▋      | 11/30 [02:01<03:23, 10.70s/it]",
            "\rbatch:  40%|████      | 12/30 [02:14<03:27, 11.55s/it]",
            "\rbatch:  43%|████▎     | 13/30 [02:26<03:17, 11.63s/it]",
            "\rbatch:  47%|████▋     | 14/30 [02:36<02:58, 11.16s/it]",
            "\rbatch:  50%|█████     | 15/30 [02:47<02:46, 11.12s/it]",
            "\rbatch:  53%|█████▎    | 16/30 [02:58<02:36, 11.16s/it]",
            "\rbatch:  57%|█████▋    | 17/30 [03:10<02:28, 11.41s/it]",
            "\rbatch:  60%|██████    | 18/30 [03:21<02:13, 11.13s/it]",
            "\rbatch:  63%|██████▎   | 19/30 [03:33<02:05, 11.44s/it]",
            "\rbatch:  67%|██████▋   | 20/30 [03:44<01:54, 11.40s/it]",
            "\rbatch:  70%|███████   | 21/30 [03:55<01:41, 11.27s/it]",
            "\rbatch:  73%|███████▎  | 22/30 [04:06<01:28, 11.04s/it]",
            "\rbatch:  77%|███████▋  | 23/30 [04:17<01:17, 11.03s/it]",
            "\rbatch:  80%|████████  | 24/30 [04:28<01:05, 10.99s/it]",
            "\rbatch:  83%|████████▎ | 25/30 [04:39<00:55, 11.12s/it]",
            "\rbatch:  87%|████████▋ | 26/30 [04:50<00:44, 11.11s/it]",
            "\rbatch:  90%|█████████ | 27/30 [04:59<00:31, 10.57s/it]",
            "\rbatch:  93%|█████████▎| 28/30 [05:11<00:21, 10.79s/it]",
            "\rbatch:  97%|█████████▋| 29/30 [05:22<00:11, 11.04s/it]",
            "\rbatch: 100%|██████████| 30/30 [05:34<00:00, 11.21s/it]",
            "\rbatch: 100%|██████████| 30/30 [05:34<00:00, 11.15s/it]",
            "\n"
          ]
        },
        {
          "output_type": "stream",
          "name": "stdout",
          "text": [
            "Trial 1\n"
          ]
        },
        {
          "output_type": "stream",
          "name": "stderr",
          "text": [
            "\rbatch:   0%|          | 0/30 [00:00<?, ?it/s]",
            "\rbatch:   3%|▎         | 1/30 [00:06<02:54,  6.00s/it]",
            "\rbatch:   7%|▋         | 2/30 [00:13<03:18,  7.10s/it]",
            "\rbatch:  10%|█         | 3/30 [00:20<03:08,  6.99s/it]",
            "\rbatch:  13%|█▎        | 4/30 [00:29<03:19,  7.68s/it]",
            "\rbatch:  17%|█▋        | 5/30 [00:39<03:37,  8.69s/it]",
            "\rbatch:  20%|██        | 6/30 [00:51<03:54,  9.75s/it]",
            "\rbatch:  23%|██▎       | 7/30 [01:07<04:32, 11.83s/it]",
            "\rbatch:  27%|██▋       | 8/30 [01:22<04:36, 12.57s/it]",
            "\rbatch:  30%|███       | 9/30 [01:36<04:34, 13.08s/it]",
            "\rbatch:  33%|███▎      | 10/30 [01:50<04:26, 13.32s/it]",
            "\rbatch:  37%|███▋      | 11/30 [02:00<03:56, 12.46s/it]",
            "\rbatch:  40%|████      | 12/30 [02:12<03:40, 12.23s/it]",
            "\rbatch:  43%|████▎     | 13/30 [02:26<03:37, 12.77s/it]",
            "\rbatch:  47%|████▋     | 14/30 [02:39<03:26, 12.91s/it]",
            "\rbatch:  50%|█████     | 15/30 [02:50<03:04, 12.32s/it]",
            "\rbatch:  53%|█████▎    | 16/30 [03:02<02:50, 12.21s/it]",
            "\rbatch:  57%|█████▋    | 17/30 [03:13<02:33, 11.84s/it]",
            "\rbatch:  60%|██████    | 18/30 [03:25<02:23, 11.93s/it]",
            "\rbatch:  63%|██████▎   | 19/30 [03:37<02:12, 12.02s/it]",
            "\rbatch:  67%|██████▋   | 20/30 [03:49<02:00, 12.07s/it]",
            "\rbatch:  70%|███████   | 21/30 [03:59<01:42, 11.43s/it]",
            "\rbatch:  73%|███████▎  | 22/30 [04:10<01:29, 11.24s/it]",
            "\rbatch:  77%|███████▋  | 23/30 [04:20<01:16, 10.94s/it]",
            "\rbatch:  80%|████████  | 24/30 [04:31<01:04, 10.80s/it]",
            "\rbatch:  83%|████████▎ | 25/30 [04:42<00:55, 11.01s/it]",
            "\rbatch:  87%|████████▋ | 26/30 [04:53<00:43, 10.79s/it]",
            "\rbatch:  90%|█████████ | 27/30 [05:04<00:32, 10.93s/it]",
            "\rbatch:  93%|█████████▎| 28/30 [05:16<00:22, 11.25s/it]",
            "\rbatch:  97%|█████████▋| 29/30 [05:26<00:10, 10.87s/it]",
            "\rbatch: 100%|██████████| 30/30 [05:38<00:00, 11.17s/it]",
            "\rbatch: 100%|██████████| 30/30 [05:38<00:00, 11.28s/it]",
            "\n"
          ]
        },
        {
          "output_type": "stream",
          "name": "stdout",
          "text": [
            "Trial 2\n"
          ]
        },
        {
          "output_type": "stream",
          "name": "stderr",
          "text": [
            "\rbatch:   0%|          | 0/30 [00:00<?, ?it/s]",
            "\rbatch:   3%|▎         | 1/30 [00:05<02:47,  5.77s/it]",
            "\rbatch:   7%|▋         | 2/30 [00:11<02:39,  5.68s/it]",
            "\rbatch:  10%|█         | 3/30 [00:17<02:44,  6.09s/it]",
            "\rbatch:  13%|█▎        | 4/30 [00:25<02:53,  6.66s/it]",
            "\rbatch:  17%|█▋        | 5/30 [00:34<03:04,  7.38s/it]",
            "\rbatch:  20%|██        | 6/30 [00:43<03:15,  8.15s/it]",
            "\rbatch:  23%|██▎       | 7/30 [00:55<03:35,  9.35s/it]",
            "\rbatch:  27%|██▋       | 8/30 [01:06<03:37,  9.87s/it]",
            "\rbatch:  30%|███       | 9/30 [01:18<03:39, 10.44s/it]",
            "\rbatch:  33%|███▎      | 10/30 [01:32<03:51, 11.59s/it]",
            "\rbatch:  37%|███▋      | 11/30 [01:46<03:56, 12.45s/it]",
            "\rbatch:  40%|████      | 12/30 [01:57<03:35, 11.99s/it]",
            "\rbatch:  43%|████▎     | 13/30 [02:09<03:22, 11.92s/it]",
            "\rbatch:  47%|████▋     | 14/30 [02:21<03:11, 11.95s/it]",
            "\rbatch:  50%|█████     | 15/30 [02:34<03:02, 12.15s/it]",
            "\rbatch:  53%|█████▎    | 16/30 [02:43<02:37, 11.28s/it]",
            "\rbatch:  57%|█████▋    | 17/30 [02:52<02:19, 10.72s/it]",
            "\rbatch:  60%|██████    | 18/30 [03:02<02:06, 10.51s/it]",
            "\rbatch:  63%|██████▎   | 19/30 [03:13<01:57, 10.66s/it]",
            "\rbatch:  67%|██████▋   | 20/30 [03:23<01:44, 10.48s/it]",
            "\rbatch:  70%|███████   | 21/30 [03:36<01:40, 11.18s/it]",
            "\rbatch:  73%|███████▎  | 22/30 [03:48<01:30, 11.36s/it]",
            "\rbatch:  77%|███████▋  | 23/30 [04:00<01:21, 11.69s/it]",
            "\rbatch:  80%|████████  | 24/30 [04:12<01:08, 11.49s/it]",
            "\rbatch:  83%|████████▎ | 25/30 [04:22<00:55, 11.10s/it]",
            "\rbatch:  87%|████████▋ | 26/30 [04:34<00:45, 11.42s/it]",
            "\rbatch:  90%|█████████ | 27/30 [04:45<00:33, 11.24s/it]",
            "\rbatch:  93%|█████████▎| 28/30 [04:54<00:21, 10.79s/it]",
            "\rbatch:  97%|█████████▋| 29/30 [05:04<00:10, 10.43s/it]",
            "\rbatch: 100%|██████████| 30/30 [05:15<00:00, 10.59s/it]",
            "\rbatch: 100%|██████████| 30/30 [05:15<00:00, 10.52s/it]"
          ]
        },
        {
          "output_type": "stream",
          "name": "stdout",
          "text": [
            "CPU times: user 48min 32s, sys: 2min 4s, total: 50min 37s\nWall time: 16min 28s\n"
          ]
        },
        {
          "output_type": "stream",
          "name": "stderr",
          "text": [
            "\n"
          ]
        }
      ]
    },
    {
      "cell_type": "markdown",
      "metadata": {
        "originalKey": "2fa1b7b7-293f-4692-9c98-8ec8f0f015ef",
        "showInput": false
      },
      "source": [
        "### Evaluating the hypervolume for each iteration for MOMF\n",
        "\n",
        "As before we are interested in the Pareto front at the highest fidelity after the MOMF. In this section we only show the evolution of the mean hypervolume for both MOMF and qEHVI. The calculation for the MOMF is done in a similar fashion as before but now for each trial and iteration to get the evolution of hypervolume."
      ]
    },
    {
      "cell_type": "markdown",
      "metadata": {
        "originalKey": "3bfff3cf-2b08-4ea6-a79a-648caf262de3",
        "showInput": false
      },
      "source": [
        "The following code loops over the number of trials and the number of iterations within a single trial. It works in the following steps: \n",
        "1. At the start of each iteration a model is trained on the MOMF data.\n",
        "2. We generate a posterior mean from the model and calculated the dominated set from these 10000 points.\n",
        "3. This dominated set is used to estimate the hypervolume and then the next iteration is started where the model now takes n+1 data points\n",
        "\n",
        "**The test points used here are already generated before for evaluation of the single trial of MOMF**\n",
        "\n",
        "**Note: The following cell would take some time**"
      ]
    },
    {
      "cell_type": "code",
      "metadata": {
        "originalKey": "9b016ea0-d3bb-4e91-a156-40fa3d8f24e7",
        "collapsed": false,
        "requestMsgId": "3fd21b5e-68de-40f7-b81f-59f8e98e3094",
        "executionStopTime": 1677772442963,
        "customOutput": null,
        "executionStartTime": 1677772016559,
        "code_folding": [],
        "hidden_ranges": []
      },
      "source": [
        "%%time\n",
        "# Generating the final Pareto front by fitting a GP to MOMF data and evaluating the\n",
        "# GP posterior at the highest fidelity with 10000 random points\n",
        "\n",
        "# Array that contains hypervolume for n_TRIALS\n",
        "hv_MOMF = np.zeros((train_obj.shape[0], n_TRIALS))  \n",
        "for trial in range(n_TRIALS):\n",
        "    # Loop to run over all trials\n",
        "    print(f\"Trial {trial}\")\n",
        "    for num, i in enumerate(tqdm(range(n_INIT, train_obj.shape[0], 1))):\n",
        "        # Loop to get evolution of hypervolume during a single trial of MOMF optimization.\n",
        "        hv_MOMF[num, trial], _ = get_pareto(\n",
        "            train_x[:i, :, trial], train_obj[:i, :-1, trial], test_x\n",
        "        )"
      ],
      "execution_count": 16,
      "outputs": [
        {
          "output_type": "stream",
          "name": "stdout",
          "text": [
            "Trial 0\n"
          ]
        },
        {
          "output_type": "stream",
          "name": "stderr",
          "text": [
            "\r  0%|          | 0/60 [00:00<?, ?it/s]",
            "\r  2%|▏         | 1/60 [00:00<00:40,  1.46it/s]",
            "\r  3%|▎         | 2/60 [00:01<00:43,  1.32it/s]",
            "\r  5%|▌         | 3/60 [00:02<00:47,  1.20it/s]",
            "\r  7%|▋         | 4/60 [00:03<00:53,  1.04it/s]",
            "\r  8%|▊         | 5/60 [00:04<01:01,  1.11s/it]",
            "\r 10%|█         | 6/60 [00:06<01:08,  1.27s/it]",
            "\r 12%|█▏        | 7/60 [00:08<01:11,  1.36s/it]",
            "\r 13%|█▎        | 8/60 [00:09<01:11,  1.37s/it]",
            "\r 15%|█▌        | 9/60 [00:11<01:13,  1.44s/it]",
            "\r 17%|█▋        | 10/60 [00:13<01:31,  1.84s/it]",
            "\r 18%|█▊        | 11/60 [00:14<01:17,  1.58s/it]",
            "\r 20%|██        | 12/60 [00:17<01:28,  1.85s/it]",
            "\r 22%|██▏       | 13/60 [00:19<01:34,  2.01s/it]",
            "\r 23%|██▎       | 14/60 [00:21<01:28,  1.91s/it]",
            "\r 25%|██▌       | 15/60 [00:23<01:29,  2.00s/it]",
            "\r 27%|██▋       | 16/60 [00:25<01:32,  2.11s/it]",
            "\r 28%|██▊       | 17/60 [00:28<01:35,  2.21s/it]",
            "\r 30%|███       | 18/60 [00:30<01:31,  2.18s/it]",
            "\r 32%|███▏      | 19/60 [00:33<01:34,  2.31s/it]",
            "\r 33%|███▎      | 20/60 [00:35<01:33,  2.35s/it]",
            "\r 35%|███▌      | 21/60 [00:38<01:45,  2.70s/it]",
            "\r 37%|███▋      | 22/60 [00:42<01:47,  2.83s/it]",
            "\r 38%|███▊      | 23/60 [00:45<01:50,  2.98s/it]",
            "\r 40%|████      | 24/60 [00:48<01:50,  3.06s/it]",
            "\r 42%|████▏     | 25/60 [00:53<02:05,  3.59s/it]",
            "\r 43%|████▎     | 26/60 [00:56<01:54,  3.37s/it]",
            "\r 45%|████▌     | 27/60 [00:59<01:44,  3.16s/it]",
            "\r 47%|████▋     | 28/60 [01:02<01:44,  3.26s/it]",
            "\r 48%|████▊     | 29/60 [01:05<01:39,  3.22s/it]",
            "\r 50%|█████     | 30/60 [01:08<01:29,  3.00s/it]",
            "\r 52%|█████▏    | 31/60 [01:11<01:28,  3.05s/it]",
            "\r 53%|█████▎    | 32/60 [01:14<01:23,  3.00s/it]",
            "\r 55%|█████▌    | 33/60 [01:17<01:19,  2.95s/it]",
            "\r 57%|█████▋    | 34/60 [01:20<01:19,  3.06s/it]",
            "\r 58%|█████▊    | 35/60 [01:23<01:15,  3.03s/it]",
            "\r 60%|██████    | 36/60 [01:26<01:12,  3.02s/it]",
            "\r 62%|██████▏   | 37/60 [01:30<01:14,  3.23s/it]",
            "\r 63%|██████▎   | 38/60 [01:32<01:06,  3.04s/it]",
            "\r 65%|██████▌   | 39/60 [01:37<01:15,  3.59s/it]",
            "\r 67%|██████▋   | 40/60 [01:41<01:15,  3.76s/it]",
            "\r 68%|██████▊   | 41/60 [01:45<01:09,  3.64s/it]",
            "\r 70%|███████   | 42/60 [01:48<01:04,  3.61s/it]",
            "\r 72%|███████▏  | 43/60 [01:52<01:01,  3.62s/it]",
            "\r 73%|███████▎  | 44/60 [01:57<01:04,  4.04s/it]",
            "\r 75%|███████▌  | 45/60 [02:01<01:00,  4.02s/it]",
            "\r 77%|███████▋  | 46/60 [02:06<01:02,  4.44s/it]",
            "\r 78%|███████▊  | 47/60 [02:10<00:56,  4.33s/it]",
            "\r 80%|████████  | 48/60 [02:13<00:44,  3.73s/it]",
            "\r 82%|████████▏ | 49/60 [02:15<00:36,  3.34s/it]",
            "\r 83%|████████▎ | 50/60 [02:20<00:38,  3.82s/it]",
            "\r 85%|████████▌ | 51/60 [02:22<00:29,  3.31s/it]",
            "\r 87%|████████▋ | 52/60 [02:24<00:24,  3.03s/it]",
            "\r 88%|████████▊ | 53/60 [02:27<00:19,  2.79s/it]",
            "\r 90%|█████████ | 54/60 [02:29<00:15,  2.64s/it]",
            "\r 92%|█████████▏| 55/60 [02:32<00:14,  2.85s/it]",
            "\r 93%|█████████▎| 56/60 [02:36<00:12,  3.10s/it]",
            "\r 95%|█████████▌| 57/60 [02:39<00:09,  3.19s/it]",
            "\r 97%|█████████▋| 58/60 [02:44<00:06,  3.49s/it]",
            "\r 98%|█████████▊| 59/60 [02:48<00:03,  3.67s/it]",
            "\r100%|██████████| 60/60 [02:52<00:00,  4.01s/it]",
            "\r100%|██████████| 60/60 [02:52<00:00,  2.88s/it]",
            "\n"
          ]
        },
        {
          "output_type": "stream",
          "name": "stdout",
          "text": [
            "Trial 1\n"
          ]
        },
        {
          "output_type": "stream",
          "name": "stderr",
          "text": [
            "\r  0%|          | 0/60 [00:00<?, ?it/s]",
            "\r  2%|▏         | 1/60 [00:01<01:04,  1.09s/it]",
            "\r  3%|▎         | 2/60 [00:02<01:16,  1.33s/it]",
            "\r  5%|▌         | 3/60 [00:03<01:15,  1.33s/it]",
            "\r  7%|▋         | 4/60 [00:05<01:24,  1.52s/it]",
            "\r  8%|▊         | 5/60 [00:06<01:13,  1.33s/it]",
            "\r 10%|█         | 6/60 [00:07<01:08,  1.28s/it]",
            "\r 12%|█▏        | 7/60 [00:08<01:03,  1.21s/it]",
            "\r 13%|█▎        | 8/60 [00:10<01:12,  1.39s/it]",
            "\r 15%|█▌        | 9/60 [00:13<01:29,  1.75s/it]",
            "\r 17%|█▋        | 10/60 [00:16<01:42,  2.06s/it]",
            "\r 18%|█▊        | 11/60 [00:19<02:04,  2.55s/it]",
            "\r 20%|██        | 12/60 [00:23<02:24,  3.02s/it]",
            "\r 22%|██▏       | 13/60 [00:26<02:18,  2.95s/it]",
            "\r 23%|██▎       | 14/60 [00:28<02:00,  2.62s/it]",
            "\r 25%|██▌       | 15/60 [00:29<01:32,  2.06s/it]",
            "\r 27%|██▋       | 16/60 [00:32<01:51,  2.53s/it]",
            "\r 28%|██▊       | 17/60 [00:35<01:55,  2.69s/it]",
            "\r 30%|███       | 18/60 [00:37<01:40,  2.40s/it]",
            "\r 32%|███▏      | 19/60 [00:39<01:34,  2.31s/it]",
            "\r 33%|███▎      | 20/60 [00:41<01:25,  2.13s/it]",
            "\r 35%|███▌      | 21/60 [00:44<01:35,  2.44s/it]",
            "\r 37%|███▋      | 22/60 [00:46<01:32,  2.43s/it]",
            "\r 38%|███▊      | 23/60 [00:47<01:11,  1.94s/it]",
            "\r 40%|████      | 24/60 [00:50<01:21,  2.26s/it]",
            "\r 42%|████▏     | 25/60 [00:54<01:36,  2.75s/it]",
            "\r 43%|████▎     | 26/60 [00:57<01:39,  2.92s/it]",
            "\r 45%|████▌     | 27/60 [01:00<01:33,  2.83s/it]",
            "\r 47%|████▋     | 28/60 [01:02<01:22,  2.57s/it]",
            "\r 48%|████▊     | 29/60 [01:04<01:17,  2.49s/it]",
            "\r 50%|█████     | 30/60 [01:07<01:13,  2.46s/it]",
            "\r 52%|█████▏    | 31/60 [01:09<01:07,  2.33s/it]",
            "\r 53%|█████▎    | 32/60 [01:11<01:06,  2.37s/it]",
            "\r 55%|█████▌    | 33/60 [01:14<01:06,  2.48s/it]",
            "\r 57%|█████▋    | 34/60 [01:17<01:06,  2.56s/it]",
            "\r 58%|█████▊    | 35/60 [01:19<01:04,  2.57s/it]",
            "\r 60%|██████    | 36/60 [01:22<01:03,  2.63s/it]",
            "\r 62%|██████▏   | 37/60 [01:24<00:57,  2.48s/it]",
            "\r 63%|██████▎   | 38/60 [01:26<00:53,  2.41s/it]",
            "\r 65%|██████▌   | 39/60 [01:28<00:47,  2.24s/it]",
            "\r 67%|██████▋   | 40/60 [01:31<00:44,  2.23s/it]",
            "\r 68%|██████▊   | 41/60 [01:33<00:43,  2.27s/it]",
            "\r 70%|███████   | 42/60 [01:35<00:39,  2.21s/it]",
            "\r 72%|███████▏  | 43/60 [01:37<00:38,  2.26s/it]",
            "\r 73%|███████▎  | 44/60 [01:39<00:35,  2.22s/it]",
            "\r 75%|███████▌  | 45/60 [01:42<00:33,  2.24s/it]",
            "\r 77%|███████▋  | 46/60 [01:44<00:31,  2.26s/it]",
            "\r 78%|███████▊  | 47/60 [01:47<00:31,  2.43s/it]",
            "\r 80%|████████  | 48/60 [01:50<00:30,  2.56s/it]",
            "\r 82%|████████▏ | 49/60 [01:53<00:29,  2.68s/it]",
            "\r 83%|████████▎ | 50/60 [01:55<00:25,  2.54s/it]",
            "\r 85%|████████▌ | 51/60 [01:58<00:22,  2.55s/it]",
            "\r 87%|████████▋ | 52/60 [01:59<00:18,  2.34s/it]",
            "\r 88%|████████▊ | 53/60 [02:02<00:16,  2.41s/it]",
            "\r 90%|█████████ | 54/60 [02:04<00:14,  2.39s/it]",
            "\r 92%|█████████▏| 55/60 [02:06<00:11,  2.32s/it]",
            "\r 93%|█████████▎| 56/60 [02:09<00:09,  2.32s/it]",
            "\r 95%|█████████▌| 57/60 [02:11<00:06,  2.31s/it]",
            "\r 97%|█████████▋| 58/60 [02:13<00:04,  2.28s/it]",
            "\r 98%|█████████▊| 59/60 [02:15<00:02,  2.22s/it]",
            "\r100%|██████████| 60/60 [02:18<00:00,  2.24s/it]",
            "\r100%|██████████| 60/60 [02:18<00:00,  2.30s/it]",
            "\n"
          ]
        },
        {
          "output_type": "stream",
          "name": "stdout",
          "text": [
            "Trial 2\n"
          ]
        },
        {
          "output_type": "stream",
          "name": "stderr",
          "text": [
            "\r  0%|          | 0/60 [00:00<?, ?it/s]",
            "\r  2%|▏         | 1/60 [00:00<00:48,  1.21it/s]",
            "\r  3%|▎         | 2/60 [00:01<00:45,  1.29it/s]",
            "\r  5%|▌         | 3/60 [00:02<00:43,  1.31it/s]",
            "\r  7%|▋         | 4/60 [00:03<00:41,  1.35it/s]",
            "\r  8%|▊         | 5/60 [00:03<00:40,  1.36it/s]",
            "\r 10%|█         | 6/60 [00:04<00:39,  1.36it/s]",
            "\r 12%|█▏        | 7/60 [00:05<00:42,  1.26it/s]",
            "\r 13%|█▎        | 8/60 [00:06<00:42,  1.22it/s]",
            "\r 15%|█▌        | 9/60 [00:07<00:44,  1.14it/s]",
            "\r 17%|█▋        | 10/60 [00:08<00:50,  1.02s/it]",
            "\r 18%|█▊        | 11/60 [00:10<01:00,  1.23s/it]",
            "\r 20%|██        | 12/60 [00:12<01:07,  1.40s/it]",
            "\r 22%|██▏       | 13/60 [00:13<01:12,  1.54s/it]",
            "\r 23%|██▎       | 14/60 [00:15<01:16,  1.66s/it]",
            "\r 25%|██▌       | 15/60 [00:18<01:24,  1.88s/it]",
            "\r 27%|██▋       | 16/60 [00:19<01:14,  1.70s/it]",
            "\r 28%|██▊       | 17/60 [00:21<01:21,  1.91s/it]",
            "\r 30%|███       | 18/60 [00:24<01:22,  1.96s/it]",
            "\r 32%|███▏      | 19/60 [00:26<01:25,  2.08s/it]",
            "\r 33%|███▎      | 20/60 [00:28<01:23,  2.09s/it]",
            "\r 35%|███▌      | 21/60 [00:30<01:21,  2.10s/it]",
            "\r 37%|███▋      | 22/60 [00:32<01:17,  2.05s/it]",
            "\r 38%|███▊      | 23/60 [00:35<01:23,  2.25s/it]",
            "\r 40%|████      | 24/60 [00:37<01:17,  2.15s/it]",
            "\r 42%|████▏     | 25/60 [00:39<01:12,  2.07s/it]",
            "\r 43%|████▎     | 26/60 [00:41<01:10,  2.09s/it]",
            "\r 45%|████▌     | 27/60 [00:43<01:08,  2.08s/it]",
            "\r 47%|████▋     | 28/60 [00:45<01:03,  1.99s/it]",
            "\r 48%|████▊     | 29/60 [00:47<01:04,  2.07s/it]",
            "\r 50%|█████     | 30/60 [00:49<01:03,  2.11s/it]",
            "\r 52%|█████▏    | 31/60 [00:51<00:59,  2.04s/it]",
            "\r 53%|█████▎    | 32/60 [00:53<00:57,  2.05s/it]",
            "\r 55%|█████▌    | 33/60 [00:55<00:53,  1.97s/it]",
            "\r 57%|█████▋    | 34/60 [00:57<00:57,  2.20s/it]",
            "\r 58%|█████▊    | 35/60 [00:59<00:53,  2.13s/it]",
            "\r 60%|██████    | 36/60 [01:01<00:49,  2.06s/it]",
            "\r 62%|██████▏   | 37/60 [01:03<00:47,  2.06s/it]",
            "\r 63%|██████▎   | 38/60 [01:05<00:45,  2.06s/it]",
            "\r 65%|██████▌   | 39/60 [01:08<00:46,  2.20s/it]",
            "\r 67%|██████▋   | 40/60 [01:10<00:43,  2.16s/it]",
            "\r 68%|██████▊   | 41/60 [01:12<00:41,  2.19s/it]",
            "\r 70%|███████   | 42/60 [01:15<00:43,  2.44s/it]",
            "\r 72%|███████▏  | 43/60 [01:18<00:43,  2.55s/it]",
            "\r 73%|███████▎  | 44/60 [01:21<00:40,  2.52s/it]",
            "\r 75%|███████▌  | 45/60 [01:24<00:39,  2.65s/it]",
            "\r 77%|███████▋  | 46/60 [01:26<00:36,  2.60s/it]",
            "\r 78%|███████▊  | 47/60 [01:29<00:33,  2.58s/it]",
            "\r 80%|████████  | 48/60 [01:30<00:27,  2.29s/it]",
            "\r 82%|████████▏ | 49/60 [01:33<00:25,  2.31s/it]",
            "\r 83%|████████▎ | 50/60 [01:35<00:23,  2.38s/it]",
            "\r 85%|████████▌ | 51/60 [01:38<00:22,  2.49s/it]",
            "\r 87%|████████▋ | 52/60 [01:40<00:18,  2.33s/it]",
            "\r 88%|████████▊ | 53/60 [01:42<00:16,  2.38s/it]",
            "\r 90%|█████████ | 54/60 [01:44<00:12,  2.11s/it]",
            "\r 92%|█████████▏| 55/60 [01:45<00:09,  1.93s/it]",
            "\r 93%|█████████▎| 56/60 [01:47<00:07,  1.93s/it]",
            "\r 95%|█████████▌| 57/60 [01:49<00:05,  1.87s/it]",
            "\r 97%|█████████▋| 58/60 [01:51<00:03,  1.90s/it]",
            "\r 98%|█████████▊| 59/60 [01:52<00:01,  1.80s/it]",
            "\r100%|██████████| 60/60 [01:55<00:00,  1.96s/it]",
            "\r100%|██████████| 60/60 [01:55<00:00,  1.92s/it]"
          ]
        },
        {
          "output_type": "stream",
          "name": "stdout",
          "text": [
            "CPU times: user 7min 4s, sys: 7.78 s, total: 7min 12s\nWall time: 7min 6s\n"
          ]
        },
        {
          "output_type": "stream",
          "name": "stderr",
          "text": [
            "\n"
          ]
        }
      ]
    },
    {
      "cell_type": "markdown",
      "metadata": {
        "originalKey": "a7ea66e7-1000-4649-a109-23c05fa34186",
        "showInput": false
      },
      "source": [
        "For the qEHVI the hypervolume calculation is more straightforward. We calculated at each iteration the set of non-dominated points from the training data and use that to estimate the hypervolume."
      ]
    },
    {
      "cell_type": "code",
      "metadata": {
        "originalKey": "85178f61-ceae-435d-8170-788e07f78e5a",
        "collapsed": false,
        "requestMsgId": "55a0b5d2-8e7c-4e93-9aad-0b26e16960bd",
        "executionStopTime": 1677773475882,
        "customOutput": null,
        "executionStartTime": 1677773475626
      },
      "source": [
        "# Since the MO data is already at highest fidelity we can calculate the evolution of hypervolume directly from data\n",
        "\n",
        "hv_MO = np.zeros((train_objMO.shape[0], n_TRIALS))\n",
        "# Loop to run over all the trials\n",
        "for trial in range(0, n_TRIALS):\n",
        "    # Loop to get evolution of hypervolume within a single trial\n",
        "    for num, i in enumerate(range(0, train_objMO.shape[0], 1)):\n",
        "        # Calculating Non-dominated points\n",
        "        pareto_maskMO = is_non_dominated(train_objMO[:i, :, trial])\n",
        "        # Used to calculate hypervolume\n",
        "        box_decomp = DominatedPartitioning(\n",
        "            torch.tensor(ref_pointMO, **tkwargs),\n",
        "            train_objMO[:i, :, trial][pareto_maskMO],\n",
        "        )\n",
        "        hv_MO[num, trial] = box_decomp.compute_hypervolume().item()"
      ],
      "execution_count": 35,
      "outputs": []
    },
    {
      "cell_type": "code",
      "metadata": {
        "originalKey": "5711e66e-5d6a-463d-a97b-0ce52d198394",
        "collapsed": false,
        "requestMsgId": "08fc75e2-b0e9-4383-814d-55f98679a87a",
        "executionStopTime": 1677773487251,
        "customOutput": null,
        "executionStartTime": 1677773487243
      },
      "source": [
        "# Cost calculation MOMF and MO\n",
        "cost_single = cost_func(train_x[:, -1], exp_arg)\n",
        "cost_MOMF = torch.cumsum(cost_single, axis=0)\n",
        "# Generating ones equal to number of iterations for MO only-optimization\n",
        "ones = torch.ones(train_objMO.shape[0], **tkwargs)\n",
        "cost_singleMO = cost_func(ones, exp_arg)\n",
        "cost_MO = torch.cumsum(cost_singleMO, axis=0)"
      ],
      "execution_count": 36,
      "outputs": []
    },
    {
      "cell_type": "code",
      "metadata": {
        "originalKey": "6e6c0332-98a4-41d6-a303-727dc4eeff53",
        "collapsed": false,
        "requestMsgId": "7c1f48b0-9eac-42e1-8067-a5ef84a90ceb",
        "executionStopTime": 1677773488223,
        "customOutput": null,
        "executionStartTime": 1677773488216
      },
      "source": [
        "# Converting to Numpy arrays for plotting\n",
        "cost_MOMF = cost_MOMF.cpu().numpy()\n",
        "cost_MO = cost_MO.cpu().numpy()\n",
        "# The approximate max hypervolume taken by evaluating the BC function offline with random 50000 points\n",
        "true_hv = 0.5235514158034145"
      ],
      "execution_count": 37,
      "outputs": []
    },
    {
      "cell_type": "markdown",
      "metadata": {
        "originalKey": "241e1bf5-6c82-4fb1-9f89-0271646d7860",
        "showInput": false
      },
      "source": [
        "For plotting purposes we calculate the cost of both MOMF and MO using the last dimension of the training input data."
      ]
    },
    {
      "cell_type": "markdown",
      "metadata": {
        "originalKey": "69e38b84-efab-4d37-8240-840dfe04b976",
        "showInput": false
      },
      "source": [
        "### Results\n",
        "\n",
        "The following plot shows the hypervolume as a percetage of the true hypervolume for both MOMF and qEHVI. The hypervolume is plotted at each iteration on a log scale. We also plot the confidence intervals derived from running multiple trials for the MOMF and MO.\n",
        ""
      ]
    },
    {
      "cell_type": "code",
      "metadata": {
        "originalKey": "0f398395-874d-4112-a22d-68ac3e784003",
        "collapsed": false,
        "requestMsgId": "e820a6ac-b793-472e-ba26-47507d1fa6ef",
        "executionStopTime": 1677773491191,
        "customOutput": null,
        "executionStartTime": 1677773490693
      },
      "source": [
        "MOMF_mean = np.mean(hv_MOMF[n_INIT : n_BATCH * BATCH_SIZE, :] / true_hv * 100, axis=1)\n",
        "MOMF_CI = (\n",
        "    1.96\n",
        "    * np.std(hv_MOMF[n_INIT : n_BATCH * BATCH_SIZE, :] / true_hv * 100, axis=1)\n",
        "    / np.sqrt(n_TRIALS)\n",
        ")\n",
        "mean_costMOMF = np.mean(cost_MOMF[n_INIT : n_BATCH * BATCH_SIZE], axis=1)\n",
        "MO_mean = np.mean(hv_MO[n_INITMO:, :] / true_hv * 100, axis=1)\n",
        "MO_CI = 1.96 * np.std(hv_MO[n_INITMO:, :] / true_hv * 100, axis=1) / np.sqrt(n_TRIALS)\n",
        "\n",
        "fig, axes = plt.subplots(1, 1, figsize=(4, 4), dpi=200)\n",
        "axes.errorbar(mean_costMOMF, MOMF_mean, yerr=MOMF_CI, markersize=3.5, label=\"MOMF\")\n",
        "axes.errorbar(cost_MO[n_INITMO:], MO_mean, yerr=MO_CI, markersize=3.5, label=\"EHVI\")\n",
        "axes.set_title(\"Branin-Currin\", fontsize=\"12\")\n",
        "axes.set_xlabel(\"Total Cost Log Scale\", fontsize=\"10\")\n",
        "axes.set_ylabel(\"Hypervolume (%)\", fontsize=\"10\")\n",
        "axes.set_ylim(0, 100)\n",
        "axes.tick_params(labelsize=10)\n",
        "axes.legend(loc=\"lower right\", fontsize=\"7\", frameon=True, ncol=1)\n",
        "plt.xscale(\"log\")\n",
        "plt.tight_layout()"
      ],
      "execution_count": 38,
      "outputs": [
        {
          "output_type": "display_data",
          "data": {
            "text/plain": "<Figure size 800x800 with 1 Axes>",
            "image/png": "[encoded data removed]"
          },
          "metadata": {
            "bento_obj_id": "139790919180592",
            "needs_background": "light"
          }
        }
      ]
    },
    {
      "cell_type": "code",
      "metadata": {
        "originalKey": "2de1b2a0-c148-4f1d-8bfe-5a1055079869",
        "showInput": true,
        "customInput": null,
        "customOutput": null
      },
      "source": [
        ""
      ],
      "execution_count": null,
      "outputs": []
    }
  ]
}
